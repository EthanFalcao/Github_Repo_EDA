{
 "cells": [
  {
   "cell_type": "code",
   "execution_count": 6,
   "metadata": {},
   "outputs": [],
   "source": [
    "import pandas as pd\n",
    "\n",
    "import warnings\n",
    "warnings.simplefilter(action='ignore', category=FutureWarning)"
   ]
  },
  {
   "cell_type": "markdown",
   "metadata": {},
   "source": [
    "##### import data"
   ]
  },
  {
   "cell_type": "code",
   "execution_count": 7,
   "metadata": {},
   "outputs": [],
   "source": [
    "import os\n",
    "import pandas as pd\n",
    "\n",
    "def process_commit_history(csv_file, current_time=\"2023-12-15\"):\n",
    "    df = pd.read_csv(csv_file)\n",
    "    \n",
    "    # Drop rows where 'date' is null to avoid NaT values\n",
    "    df = df.dropna(subset=['date'])\n",
    "    \n",
    "    # If DataFrame is empty after dropping null dates, skip this file\n",
    "    if df.empty:\n",
    "        return None\n",
    "    \n",
    "    # Continue with preprocessing\n",
    "    df['date'] = pd.to_datetime(df['date']).dt.tz_localize(None)\n",
    "    df['timestamp'] = df['date'].astype('datetime64[s]')  # Safely convert to timestamps\n",
    "    df = df.sort_values(by=['timestamp'], ascending=True)\n",
    "    df['interval'] = df['timestamp'].diff().dt.total_seconds()\n",
    "    \n",
    "    # Calculate Z, Percentile_95, and T_X_n\n",
    "    Z = df['interval'].max()\n",
    "    percentile_95 = df['interval'].dropna().quantile(0.95)\n",
    "    T = pd.to_datetime(current_time)\n",
    "    T_X_n = (T - df['timestamp'].iloc[-1]).total_seconds()\n",
    "    \n",
    "    # Convert T_X_n to a more readable format, e.g., days\n",
    "    time_since_last_commit_days = T_X_n / (60 * 60 * 24)  # Convert seconds to days\n",
    "    \n",
    "    # Classify the repository\n",
    "    classification = \"unknown\"  # Default classification\n",
    "    if T_X_n > Z:\n",
    "        classification = \"dead\"\n",
    "    elif T_X_n < percentile_95:\n",
    "        classification = \"alive\"\n",
    "    \n",
    "    repo_name = os.path.basename(csv_file).split('.')[0]  # Assuming file name is the repo name\n",
    "    return {\n",
    "        'Repo': repo_name,\n",
    "        'Z': Z,\n",
    "        'T_X_n': T_X_n,\n",
    "        'Percentile_95': percentile_95,\n",
    "        'Classification': classification,\n",
    "        'TimeSinceLastCommit': time_since_last_commit_days\n",
    "    }\n",
    "\n",
    "# Adjust folder_path to your directory containing CSV files\n",
    "folder_path = 'Data/CommitData'\n",
    "\n",
    "results_df = pd.DataFrame(columns=['Repo', 'Z', 'T_X_n', 'Percentile_95', 'Classification', 'TimeSinceLastCommit'])\n",
    "\n",
    "for file_name in os.listdir(folder_path):\n",
    "    if file_name.endswith('.csv'):\n",
    "        csv_path = os.path.join(folder_path, file_name)\n",
    "        result = process_commit_history(csv_path)\n",
    "        if result:  # Only append if result is not None\n",
    "            results_df = results_df.append(result, ignore_index=True)\n",
    "\n"
   ]
  },
  {
   "cell_type": "code",
   "execution_count": 8,
   "metadata": {},
   "outputs": [
    {
     "data": {
      "text/html": [
       "<div>\n",
       "<style scoped>\n",
       "    .dataframe tbody tr th:only-of-type {\n",
       "        vertical-align: middle;\n",
       "    }\n",
       "\n",
       "    .dataframe tbody tr th {\n",
       "        vertical-align: top;\n",
       "    }\n",
       "\n",
       "    .dataframe thead th {\n",
       "        text-align: right;\n",
       "    }\n",
       "</style>\n",
       "<table border=\"1\" class=\"dataframe\">\n",
       "  <thead>\n",
       "    <tr style=\"text-align: right;\">\n",
       "      <th></th>\n",
       "      <th>Repo</th>\n",
       "      <th>Z</th>\n",
       "      <th>T_X_n</th>\n",
       "      <th>Percentile_95</th>\n",
       "      <th>Classification</th>\n",
       "      <th>TimeSinceLastCommit</th>\n",
       "    </tr>\n",
       "  </thead>\n",
       "  <tbody>\n",
       "    <tr>\n",
       "      <th>0</th>\n",
       "      <td>C_0voice_campus_recruitmen_questions</td>\n",
       "      <td>1468386.0</td>\n",
       "      <td>72700753.0</td>\n",
       "      <td>5936.6</td>\n",
       "      <td>dead</td>\n",
       "      <td>841.4439</td>\n",
       "    </tr>\n",
       "  </tbody>\n",
       "</table>\n",
       "</div>"
      ],
      "text/plain": [
       "                                   Repo          Z       T_X_n Percentile_95  \\\n",
       "0  C_0voice_campus_recruitmen_questions  1468386.0  72700753.0        5936.6   \n",
       "\n",
       "  Classification TimeSinceLastCommit  \n",
       "0           dead            841.4439  "
      ]
     },
     "execution_count": 8,
     "metadata": {},
     "output_type": "execute_result"
    }
   ],
   "source": [
    "results_df.head(1)"
   ]
  },
  {
   "cell_type": "code",
   "execution_count": 19,
   "metadata": {},
   "outputs": [
    {
     "data": {
      "text/plain": [
       "count     1752.000000\n",
       "unique    1751.000000\n",
       "top        332.436817\n",
       "freq         2.000000\n",
       "Name: TimeSinceLastCommit, dtype: float64"
      ]
     },
     "execution_count": 19,
     "metadata": {},
     "output_type": "execute_result"
    }
   ],
   "source": [
    "\n",
    "\n",
    "results_df['TimeSinceLastCommit'].describe()\n"
   ]
  },
  {
   "cell_type": "code",
   "execution_count": null,
   "metadata": {},
   "outputs": [],
   "source": []
  },
  {
   "cell_type": "code",
   "execution_count": 9,
   "metadata": {},
   "outputs": [
    {
     "data": {
      "image/png": "[encoded data removed]",
      "text/plain": [
       "<Figure size 432x288 with 1 Axes>"
      ]
     },
     "metadata": {
      "needs_background": "light"
     },
     "output_type": "display_data"
    }
   ],
   "source": [
    "import matplotlib.pyplot as plt\n",
    "\n",
    "classification_counts = results_df['Classification'].value_counts()\n",
    "classification_counts.plot(kind='bar', color=['skyblue', 'lightgreen', 'salmon'])\n",
    "plt.title('Classification Distribution')\n",
    "plt.xlabel('Classification')\n",
    "plt.ylabel('Count')\n",
    "plt.xticks(rotation=45)\n",
    "plt.show()"
   ]
  },
  {
   "cell_type": "markdown",
   "metadata": {},
   "source": [
    "#### Dead repos "
   ]
  },
  {
   "cell_type": "code",
   "execution_count": 10,
   "metadata": {},
   "outputs": [],
   "source": [
    "dead_repos_df = results_df[results_df['Classification'] == 'dead']\n"
   ]
  },
  {
   "cell_type": "code",
   "execution_count": 13,
   "metadata": {},
   "outputs": [
    {
     "data": {
      "image/png": "[encoded data removed]",
      "text/plain": [
       "<Figure size 432x288 with 1 Axes>"
      ]
     },
     "metadata": {
      "needs_background": "light"
     },
     "output_type": "display_data"
    }
   ],
   "source": [
    "import seaborn as sns\n",
    "import matplotlib.pyplot as plt\n",
    "\n",
    "# Plotting the distribution of \"Time Since Last Commit\" for \"dead\" repositories\n",
    "sns.histplot(dead_repos_df['TimeSinceLastCommit'], kde=True)\n",
    "plt.title('Distribution of Time Since Last Commit for Dead Repositories')\n",
    "plt.xlabel('Time Since Last Commit (days)')\n",
    "plt.ylabel('Frequency')\n",
    "plt.show()\n"
   ]
  },
  {
   "cell_type": "code",
   "execution_count": 17,
   "metadata": {},
   "outputs": [
    {
     "data": {
      "image/png": "[encoded data removed]",
      "text/plain": [
       "<Figure size 432x288 with 1 Axes>"
      ]
     },
     "metadata": {
      "needs_background": "light"
     },
     "output_type": "display_data"
    }
   ],
   "source": [
    "# Plotting the distribution of \"Time Since Last Commit\" for \"dead\" repositories\n",
    "sns.histplot(results_df['TimeSinceLastCommit'], kde=True)\n",
    "plt.title('Distribution of Time Since Last Commit for Dead Repositories')\n",
    "plt.xlabel('Time Since Last Commit (days)')\n",
    "plt.ylabel('Frequency')\n",
    "plt.show()"
   ]
  },
  {
   "cell_type": "markdown",
   "metadata": {},
   "source": [
    "#### Alive repos "
   ]
  },
  {
   "cell_type": "code",
   "execution_count": 15,
   "metadata": {},
   "outputs": [],
   "source": [
    "alive_repos_df = results_df[results_df['Classification'] == 'alive']\n"
   ]
  },
  {
   "cell_type": "code",
   "execution_count": 16,
   "metadata": {},
   "outputs": [
    {
     "data": {
      "image/png": "[encoded data removed]",
      "text/plain": [
       "<Figure size 432x288 with 1 Axes>"
      ]
     },
     "metadata": {
      "needs_background": "light"
     },
     "output_type": "display_data"
    }
   ],
   "source": [
    "# Plotting the distribution of \"Time Since Last Commit\" for \"dead\" repositories\n",
    "sns.histplot(alive_repos_df['TimeSinceLastCommit'], kde=True)\n",
    "plt.title('Distribution of Time Since Last Commit for Dead Repositories')\n",
    "plt.xlabel('Time Since Last Commit (days)')\n",
    "plt.ylabel('Frequency')\n",
    "plt.show()"
   ]
  },
  {
   "cell_type": "code",
   "execution_count": null,
   "metadata": {},
   "outputs": [],
   "source": []
  },
  {
   "cell_type": "markdown",
   "metadata": {},
   "source": [
    "#### Dead repos "
   ]
  },
  {
   "cell_type": "code",
   "execution_count": null,
   "metadata": {},
   "outputs": [],
   "source": [
    "dead_repos_df = results_df[results_df['Classification'] == 'dead']\n"
   ]
  },
  {
   "cell_type": "code",
   "execution_count": null,
   "metadata": {},
   "outputs": [],
   "source": [
    "#### Dead repos \n",
    "dead_repos_df = results_df[results_df['Classification'] == 'dead']\n"
   ]
  },
  {
   "cell_type": "code",
   "execution_count": null,
   "metadata": {},
   "outputs": [],
   "source": []
  },
  {
   "cell_type": "code",
   "execution_count": 25,
   "metadata": {},
   "outputs": [
    {
     "data": {
      "text/html": [
       "<div>\n",
       "<style scoped>\n",
       "    .dataframe tbody tr th:only-of-type {\n",
       "        vertical-align: middle;\n",
       "    }\n",
       "\n",
       "    .dataframe tbody tr th {\n",
       "        vertical-align: top;\n",
       "    }\n",
       "\n",
       "    .dataframe thead th {\n",
       "        text-align: right;\n",
       "    }\n",
       "</style>\n",
       "<table border=\"1\" class=\"dataframe\">\n",
       "  <thead>\n",
       "    <tr style=\"text-align: right;\">\n",
       "      <th></th>\n",
       "      <th>Repo</th>\n",
       "      <th>Z</th>\n",
       "      <th>T_X_n</th>\n",
       "      <th>Percentile_95</th>\n",
       "      <th>Classification</th>\n",
       "    </tr>\n",
       "  </thead>\n",
       "  <tbody>\n",
       "    <tr>\n",
       "      <th>0</th>\n",
       "      <td>C_0voice_campus_recruitmen_questions</td>\n",
       "      <td>1468386.0</td>\n",
       "      <td>72700753.0</td>\n",
       "      <td>5936.6</td>\n",
       "      <td>dead</td>\n",
       "    </tr>\n",
       "    <tr>\n",
       "      <th>1</th>\n",
       "      <td>C_0xAX_linux-insides</td>\n",
       "      <td>9252379.0</td>\n",
       "      <td>9027872.0</td>\n",
       "      <td>640366.95</td>\n",
       "      <td>unknown</td>\n",
       "    </tr>\n",
       "    <tr>\n",
       "      <th>2</th>\n",
       "      <td>C_1Danish-00_CompressorQueue</td>\n",
       "      <td>31220268.0</td>\n",
       "      <td>36743534.0</td>\n",
       "      <td>19001707.5</td>\n",
       "      <td>dead</td>\n",
       "    </tr>\n",
       "    <tr>\n",
       "      <th>3</th>\n",
       "      <td>C_2d-inc_developer_quest</td>\n",
       "      <td>6848421.0</td>\n",
       "      <td>125971488.0</td>\n",
       "      <td>86402.9</td>\n",
       "      <td>dead</td>\n",
       "    </tr>\n",
       "    <tr>\n",
       "      <th>4</th>\n",
       "      <td>C_350306878_Kuai-Shua-Questions</td>\n",
       "      <td>64032394.0</td>\n",
       "      <td>8440126.0</td>\n",
       "      <td>7525429.7</td>\n",
       "      <td>unknown</td>\n",
       "    </tr>\n",
       "    <tr>\n",
       "      <th>...</th>\n",
       "      <td>...</td>\n",
       "      <td>...</td>\n",
       "      <td>...</td>\n",
       "      <td>...</td>\n",
       "      <td>...</td>\n",
       "    </tr>\n",
       "    <tr>\n",
       "      <th>1747</th>\n",
       "      <td>C_zpao_qrcode</td>\n",
       "      <td>31729003.0</td>\n",
       "      <td>-772438.0</td>\n",
       "      <td>10217311.0</td>\n",
       "      <td>alive</td>\n",
       "    </tr>\n",
       "    <tr>\n",
       "      <th>1748</th>\n",
       "      <td>C_zqzess_rule_for_quantumultX</td>\n",
       "      <td>606525.0</td>\n",
       "      <td>-890907.0</td>\n",
       "      <td>604659.6</td>\n",
       "      <td>alive</td>\n",
       "    </tr>\n",
       "    <tr>\n",
       "      <th>1749</th>\n",
       "      <td>C_zs9024_quick_psd2ugui</td>\n",
       "      <td>58344447.0</td>\n",
       "      <td>56208455.0</td>\n",
       "      <td>10866602.25</td>\n",
       "      <td>unknown</td>\n",
       "    </tr>\n",
       "    <tr>\n",
       "      <th>1750</th>\n",
       "      <td>C_zxing_zxing</td>\n",
       "      <td>5990254.0</td>\n",
       "      <td>903057.0</td>\n",
       "      <td>606422.9</td>\n",
       "      <td>unknown</td>\n",
       "    </tr>\n",
       "    <tr>\n",
       "      <th>1751</th>\n",
       "      <td>C_zzsza_Datascience-Interview-Questions</td>\n",
       "      <td>27535833.0</td>\n",
       "      <td>129483176.0</td>\n",
       "      <td>14137759.8</td>\n",
       "      <td>dead</td>\n",
       "    </tr>\n",
       "  </tbody>\n",
       "</table>\n",
       "<p>1752 rows × 5 columns</p>\n",
       "</div>"
      ],
      "text/plain": [
       "                                         Repo           Z        T_X_n  \\\n",
       "0        C_0voice_campus_recruitmen_questions   1468386.0   72700753.0   \n",
       "1                        C_0xAX_linux-insides   9252379.0    9027872.0   \n",
       "2                C_1Danish-00_CompressorQueue  31220268.0   36743534.0   \n",
       "3                    C_2d-inc_developer_quest   6848421.0  125971488.0   \n",
       "4             C_350306878_Kuai-Shua-Questions  64032394.0    8440126.0   \n",
       "...                                       ...         ...          ...   \n",
       "1747                            C_zpao_qrcode  31729003.0    -772438.0   \n",
       "1748            C_zqzess_rule_for_quantumultX    606525.0    -890907.0   \n",
       "1749                  C_zs9024_quick_psd2ugui  58344447.0   56208455.0   \n",
       "1750                            C_zxing_zxing   5990254.0     903057.0   \n",
       "1751  C_zzsza_Datascience-Interview-Questions  27535833.0  129483176.0   \n",
       "\n",
       "     Percentile_95 Classification  \n",
       "0           5936.6           dead  \n",
       "1        640366.95        unknown  \n",
       "2       19001707.5           dead  \n",
       "3          86402.9           dead  \n",
       "4        7525429.7        unknown  \n",
       "...            ...            ...  \n",
       "1747    10217311.0          alive  \n",
       "1748      604659.6          alive  \n",
       "1749   10866602.25        unknown  \n",
       "1750      606422.9        unknown  \n",
       "1751    14137759.8           dead  \n",
       "\n",
       "[1752 rows x 5 columns]"
      ]
     },
     "execution_count": 25,
     "metadata": {},
     "output_type": "execute_result"
    }
   ],
   "source": [
    "import os\n",
    "import pandas as pd\n",
    "\n",
    "def process_commit_history(csv_file, current_time=\"2023-12-15\"):\n",
    "    df = pd.read_csv(csv_file)\n",
    "    \n",
    "    # Drop rows where 'date' is null to avoid NaT values\n",
    "    df = df.dropna(subset=['date'])\n",
    "    \n",
    "    # If DataFrame is empty after dropping null dates, skip this file\n",
    "    if df.empty:\n",
    "        return None\n",
    "    \n",
    "    # Continue with preprocessing\n",
    "    df['date'] = pd.to_datetime(df['date']).dt.tz_localize(None)\n",
    "    df['timestamp'] = df['date'].astype('datetime64[s]')  # Safely convert to timestamps\n",
    "    df = df.sort_values(by=['timestamp'], ascending=True)\n",
    "    df['interval'] = df['timestamp'].diff().dt.total_seconds()\n",
    "    \n",
    "    # Calculate Z, Percentile_95, and T_X_n\n",
    "    Z = df['interval'].max()\n",
    "    percentile_95 = df['interval'].dropna().quantile(0.95)\n",
    "    T = pd.to_datetime(current_time)\n",
    "    T_X_n = (T - df['timestamp'].iloc[-1]).total_seconds()\n",
    "    \n",
    "    # Classify the repository\n",
    "    classification = \"unknown\"  # Default classification\n",
    "    if T_X_n > Z:\n",
    "        classification = \"dead\"\n",
    "    elif T_X_n < percentile_95:\n",
    "        classification = \"alive\"\n",
    "    \n",
    "    repo_name = os.path.basename(csv_file).split('.')[0]  # Assuming file name is the repo name\n",
    "    return {'Repo': repo_name, 'Z': Z, 'T_X_n': T_X_n, 'Percentile_95': percentile_95, 'Classification': classification}\n",
    "\n",
    "# Adjust folder_path to your directory containing CSV files\n",
    "folder_path = 'Data/CommitData'\n",
    "\n",
    "results_df = pd.DataFrame(columns=['Repo', 'Z', 'T_X_n', 'Percentile_95', 'Classification'])\n",
    "\n",
    "for file_name in os.listdir(folder_path):\n",
    "    if file_name.endswith('.csv'):\n",
    "        csv_path = os.path.join(folder_path, file_name)\n",
    "        result = process_commit_history(csv_path)\n",
    "        if result:  # Only append if result is not None\n",
    "            results_df = results_df.append(result, ignore_index=True)\n",
    "\n",
    "results_df"
   ]
  },
  {
   "cell_type": "code",
   "execution_count": 26,
   "metadata": {},
   "outputs": [
    {
     "data": {
      "image/png": "[encoded data removed]",
      "text/plain": [
       "<Figure size 432x288 with 1 Axes>"
      ]
     },
     "metadata": {
      "needs_background": "light"
     },
     "output_type": "display_data"
    }
   ],
   "source": [
    "import matplotlib.pyplot as plt\n",
    "\n",
    "classification_counts = results_df['Classification'].value_counts()\n",
    "classification_counts.plot(kind='bar', color=['skyblue', 'lightgreen', 'salmon'])\n",
    "plt.title('Classification Distribution')\n",
    "plt.xlabel('Classification')\n",
    "plt.ylabel('Count')\n",
    "plt.xticks(rotation=45)\n",
    "plt.show()"
   ]
  },
  {
   "cell_type": "code",
   "execution_count": null,
   "metadata": {},
   "outputs": [],
   "source": []
  }
 ],
 "metadata": {
  "kernelspec": {
   "display_name": "Python 3",
   "language": "python",
   "name": "python3"
  },
  "language_info": {
   "codemirror_mode": {
    "name": "ipython",
    "version": 3
   },
   "file_extension": ".py",
   "mimetype": "text/x-python",
   "name": "python",
   "nbconvert_exporter": "python",
   "pygments_lexer": "ipython3",
   "version": "3.9.12"
  }
 },
 "nbformat": 4,
 "nbformat_minor": 2
}
