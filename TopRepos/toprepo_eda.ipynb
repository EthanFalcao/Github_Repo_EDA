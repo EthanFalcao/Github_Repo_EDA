{
 "cells": [
  {
   "cell_type": "code",
   "execution_count": 1,
   "id": "d209f050",
   "metadata": {},
   "outputs": [],
   "source": [
    "# Import the libraries\n",
    "import os\n",
    "import pandas as pd\n",
    "import numpy as np\n",
    "import json\n",
    "import matplotlib.pyplot as plt\n",
    "import seaborn as sns\n",
    "%config InlineBackend.figure_format ='retina'\n",
    "import warnings\n",
    "warnings.simplefilter(action='ignore', category=FutureWarning)\n"
   ]
  },
  {
   "cell_type": "markdown",
   "id": "7f99712a",
   "metadata": {},
   "source": [
    "## Import data"
   ]
  },
  {
   "cell_type": "code",
   "execution_count": 2,
   "id": "36ee14e2",
   "metadata": {},
   "outputs": [],
   "source": [
    "topStared=pd.read_csv('data/TopStaredRepositories.csv', sep=\",\")\n",
    "commits=pd.read_csv('data/commitsTopStaredRepositories.csv', sep=\",\")\n",
    "react=pd.read_csv('data/reactSampleCommits.csv', sep=\",\")  \n",
    "toprepo=pd.read_csv('data/topRepositoriesContents.csv', sep=\",\")"
   ]
  },
  {
   "cell_type": "markdown",
   "id": "d1ffbf59",
   "metadata": {},
   "source": [
    "## Data Info"
   ]
  },
  {
   "cell_type": "code",
   "execution_count": 3,
   "id": "bad70c06",
   "metadata": {},
   "outputs": [
    {
     "data": {
      "text/html": [
       "<div>\n",
       "<style scoped>\n",
       "    .dataframe tbody tr th:only-of-type {\n",
       "        vertical-align: middle;\n",
       "    }\n",
       "\n",
       "    .dataframe tbody tr th {\n",
       "        vertical-align: top;\n",
       "    }\n",
       "\n",
       "    .dataframe thead th {\n",
       "        text-align: right;\n",
       "    }\n",
       "</style>\n",
       "<table border=\"1\" class=\"dataframe\">\n",
       "  <thead>\n",
       "    <tr style=\"text-align: right;\">\n",
       "      <th></th>\n",
       "      <th>owner</th>\n",
       "      <th>repo</th>\n",
       "      <th>fileData(name.size)</th>\n",
       "      <th>numFiles</th>\n",
       "      <th>time</th>\n",
       "    </tr>\n",
       "  </thead>\n",
       "  <tbody>\n",
       "    <tr>\n",
       "      <th>0</th>\n",
       "      <td>Alexander-MacDonald</td>\n",
       "      <td>test-repo</td>\n",
       "      <td>[('https://api.github.com/repos/Alexander-MacD...</td>\n",
       "      <td>5</td>\n",
       "      <td>2207.161188</td>\n",
       "    </tr>\n",
       "    <tr>\n",
       "      <th>1</th>\n",
       "      <td>twbs</td>\n",
       "      <td>bootstrap</td>\n",
       "      <td>[('https://api.github.com/repos/twbs/bootstrap...</td>\n",
       "      <td>745</td>\n",
       "      <td>83008.044720</td>\n",
       "    </tr>\n",
       "    <tr>\n",
       "      <th>2</th>\n",
       "      <td>EbookFoundation</td>\n",
       "      <td>free-programming-books</td>\n",
       "      <td>[('https://api.github.com/repos/EbookFoundatio...</td>\n",
       "      <td>210</td>\n",
       "      <td>7441.006660</td>\n",
       "    </tr>\n",
       "  </tbody>\n",
       "</table>\n",
       "</div>"
      ],
      "text/plain": [
       "                 owner                    repo  \\\n",
       "0  Alexander-MacDonald               test-repo   \n",
       "1                 twbs               bootstrap   \n",
       "2      EbookFoundation  free-programming-books   \n",
       "\n",
       "                                 fileData(name.size)  numFiles          time  \n",
       "0  [('https://api.github.com/repos/Alexander-MacD...         5   2207.161188  \n",
       "1  [('https://api.github.com/repos/twbs/bootstrap...       745  83008.044720  \n",
       "2  [('https://api.github.com/repos/EbookFoundatio...       210   7441.006660  "
      ]
     },
     "execution_count": 3,
     "metadata": {},
     "output_type": "execute_result"
    }
   ],
   "source": [
    "toprepo.head(3)"
   ]
  },
  {
   "cell_type": "code",
   "execution_count": 4,
   "id": "9219afe3",
   "metadata": {},
   "outputs": [
    {
     "data": {
      "text/plain": [
       "(978, 5)"
      ]
     },
     "execution_count": 4,
     "metadata": {},
     "output_type": "execute_result"
    }
   ],
   "source": [
    "toprepo.shape"
   ]
  },
  {
   "cell_type": "code",
   "execution_count": 5,
   "id": "d728f3dc",
   "metadata": {},
   "outputs": [
    {
     "name": "stdout",
     "output_type": "stream",
     "text": [
      "<class 'pandas.core.frame.DataFrame'>\n",
      "RangeIndex: 978 entries, 0 to 977\n",
      "Data columns (total 5 columns):\n",
      " #   Column               Non-Null Count  Dtype  \n",
      "---  ------               --------------  -----  \n",
      " 0   owner                978 non-null    object \n",
      " 1   repo                 978 non-null    object \n",
      " 2   fileData(name.size)  978 non-null    object \n",
      " 3   numFiles             978 non-null    int64  \n",
      " 4   time                 978 non-null    float64\n",
      "dtypes: float64(1), int64(1), object(3)\n",
      "memory usage: 38.3+ KB\n"
     ]
    }
   ],
   "source": [
    "toprepo.info() "
   ]
  },
  {
   "cell_type": "code",
   "execution_count": 6,
   "id": "6e9d9cf6",
   "metadata": {},
   "outputs": [
    {
     "data": {
      "text/plain": [
       "owner                  0\n",
       "repo                   0\n",
       "fileData(name.size)    0\n",
       "numFiles               0\n",
       "time                   0\n",
       "dtype: int64"
      ]
     },
     "execution_count": 6,
     "metadata": {},
     "output_type": "execute_result"
    }
   ],
   "source": [
    "toprepo.isnull().sum()"
   ]
  },
  {
   "cell_type": "markdown",
   "id": "f66767c0",
   "metadata": {},
   "source": [
    "###  Unique data"
   ]
  },
  {
   "cell_type": "code",
   "execution_count": 7,
   "id": "fe85bb7e",
   "metadata": {},
   "outputs": [
    {
     "name": "stdout",
     "output_type": "stream",
     "text": [
      "owner                  813\n",
      "repo                   971\n",
      "fileData(name.size)    971\n",
      "numFiles               617\n",
      "time                   978\n",
      "dtype: int64\n"
     ]
    }
   ],
   "source": [
    "#'Commits Unique values\n",
    "unique_value_counts = toprepo.nunique()\n",
    "# Display the number of unique values for each column\n",
    "print(unique_value_counts)"
   ]
  },
  {
   "cell_type": "markdown",
   "id": "cd16bbf1",
   "metadata": {},
   "source": [
    "## Data Cleaning "
   ]
  },
  {
   "cell_type": "code",
   "execution_count": 8,
   "id": "e82f9158",
   "metadata": {},
   "outputs": [
    {
     "name": "stdout",
     "output_type": "stream",
     "text": [
      "<class 'pandas.core.frame.DataFrame'>\n",
      "RangeIndex: 978 entries, 0 to 977\n",
      "Data columns (total 5 columns):\n",
      " #   Column               Non-Null Count  Dtype  \n",
      "---  ------               --------------  -----  \n",
      " 0   owner                978 non-null    object \n",
      " 1   repo                 978 non-null    object \n",
      " 2   fileData(name.size)  978 non-null    object \n",
      " 3   numFiles             978 non-null    int64  \n",
      " 4   time                 978 non-null    float64\n",
      "dtypes: float64(1), int64(1), object(3)\n",
      "memory usage: 38.3+ KB\n"
     ]
    }
   ],
   "source": [
    "toprepo.info()"
   ]
  },
  {
   "cell_type": "code",
   "execution_count": 9,
   "id": "b62742e5",
   "metadata": {},
   "outputs": [],
   "source": [
    "toprepo = toprepo.rename(columns={'fileData(name.size)': 'link'})"
   ]
  },
  {
   "cell_type": "code",
   "execution_count": 12,
   "id": "98a020eb",
   "metadata": {},
   "outputs": [
    {
     "name": "stdout",
     "output_type": "stream",
     "text": [
      "<class 'pandas.core.frame.DataFrame'>\n",
      "Index: 100 entries, 0 to 99\n",
      "Data columns (total 5 columns):\n",
      " #   Column    Non-Null Count  Dtype  \n",
      "---  ------    --------------  -----  \n",
      " 0   owner     100 non-null    object \n",
      " 1   repo      100 non-null    object \n",
      " 2   link      100 non-null    object \n",
      " 3   numFiles  100 non-null    int64  \n",
      " 4   time      100 non-null    float64\n",
      "dtypes: float64(1), int64(1), object(3)\n",
      "memory usage: 4.7+ KB\n"
     ]
    }
   ],
   "source": [
    "temp  = toprepo[:100]\n",
    "temp.info()"
   ]
  },
  {
   "cell_type": "code",
   "execution_count": 13,
   "id": "e3359e11",
   "metadata": {},
   "outputs": [
    {
     "name": "stdout",
     "output_type": "stream",
     "text": [
      "<class 'pandas.core.frame.DataFrame'>\n",
      "Index: 100 entries, 0 to 99\n",
      "Data columns (total 5 columns):\n",
      " #   Column    Non-Null Count  Dtype  \n",
      "---  ------    --------------  -----  \n",
      " 0   owner     100 non-null    object \n",
      " 1   repo      100 non-null    object \n",
      " 2   link      100 non-null    object \n",
      " 3   numFiles  100 non-null    int64  \n",
      " 4   time      100 non-null    float64\n",
      "dtypes: float64(1), int64(1), object(3)\n",
      "memory usage: 4.7+ KB\n"
     ]
    }
   ],
   "source": [
    "temp = temp.explode('link')\n",
    "temp.info()"
   ]
  },
  {
   "cell_type": "code",
   "execution_count": 13,
   "id": "b3446a3a",
   "metadata": {},
   "outputs": [],
   "source": [
    "exploded_rows = []\n",
    "\n",
    "# Iterate through each row and each tuple within the 'link' column\n",
    "for index, row in toprepo.iterrows():\n",
    "    for link_tuple in row['link']:\n",
    "        new_row = row.copy()  # Create a copy of the row\n",
    "        new_row['link'] = link_tuple  # Replace the 'link' value with the tuple\n",
    "        exploded_rows.append(new_row)  # Append the new row to the list\n",
    "\n",
    "# Create a new DataFrame from the exploded rows\n",
    "exploded_df = pd.DataFrame(exploded_rows)"
   ]
  },
  {
   "cell_type": "code",
   "execution_count": null,
   "id": "92cb11a2",
   "metadata": {},
   "outputs": [],
   "source": [
    "toprepo.info()"
   ]
  },
  {
   "cell_type": "code",
   "execution_count": 18,
   "id": "e8dc9b13",
   "metadata": {},
   "outputs": [],
   "source": [
    "# Converting 'date' column to datetime\n",
    "react['date'] = pd.to_datetime(react['date'])\n",
    "react['net_code_change'] = react['additions'] - react['deletions']"
   ]
  }
 ],
 "metadata": {
  "kernelspec": {
   "display_name": "Python 3 (ipykernel)",
   "language": "python",
   "name": "python3"
  },
  "language_info": {
   "codemirror_mode": {
    "name": "ipython",
    "version": 3
   },
   "file_extension": ".py",
   "mimetype": "text/x-python",
   "name": "python",
   "nbconvert_exporter": "python",
   "pygments_lexer": "ipython3",
   "version": "3.9.13"
  }
 },
 "nbformat": 4,
 "nbformat_minor": 5
}
